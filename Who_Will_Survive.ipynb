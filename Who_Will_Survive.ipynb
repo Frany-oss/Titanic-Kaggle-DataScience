{
  "nbformat": 4,
  "nbformat_minor": 0,
  "metadata": {
    "colab": {
      "name": "Who Will Survive.ipynb",
      "provenance": [],
      "authorship_tag": "ABX9TyMNPS76NXMjzTa14rN/gAVP",
      "include_colab_link": true
    },
    "kernelspec": {
      "name": "python3",
      "display_name": "Python 3"
    }
  },
  "cells": [
    {
      "cell_type": "markdown",
      "metadata": {
        "id": "view-in-github",
        "colab_type": "text"
      },
      "source": [
        "<a href=\"https://colab.research.google.com/github/Frany-oss/Titanic-Kaggle-DataScience/blob/main/Who_Will_Survive.ipynb\" target=\"_parent\"><img src=\"https://colab.research.google.com/assets/colab-badge.svg\" alt=\"Open In Colab\"/></a>"
      ]
    },
    {
      "cell_type": "markdown",
      "metadata": {
        "id": "0unUXoov5TlE"
      },
      "source": [
        "# Who will survive the Titanic?"
      ]
    },
    {
      "cell_type": "markdown",
      "metadata": {
        "id": "Gsg7b_OQ5a94"
      },
      "source": [
        "### About the project / Dataset"
      ]
    },
    {
      "cell_type": "markdown",
      "metadata": {
        "id": "_xyLzonp5mJI"
      },
      "source": [
        "### Dependencies"
      ]
    },
    {
      "cell_type": "markdown",
      "metadata": {
        "id": "d-389MIc5hFw"
      },
      "source": [
        "### Loading Data"
      ]
    },
    {
      "cell_type": "code",
      "metadata": {
        "id": "OOQn58Je5PYD"
      },
      "source": [
        ""
      ],
      "execution_count": null,
      "outputs": []
    },
    {
      "cell_type": "markdown",
      "metadata": {
        "id": "IilTNgWL5tkP"
      },
      "source": [
        "### Pre-proccesing"
      ]
    }
  ]
}